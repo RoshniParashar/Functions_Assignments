{
 "cells": [
  {
   "cell_type": "markdown",
   "id": "128f3ec5-ab65-4dfe-880d-77180b466bd0",
   "metadata": {
    "jp-MarkdownHeadingCollapsed": true,
    "tags": []
   },
   "source": [
    " #### 1.) What is the difference between a function and a method in Python?"
   ]
  },
  {
   "cell_type": "code",
   "execution_count": 1,
   "id": "669ef131-1e66-40e3-b765-0966728ed529",
   "metadata": {},
   "outputs": [
    {
     "data": {
      "text/plain": [
       "7"
      ]
     },
     "execution_count": 1,
     "metadata": {},
     "output_type": "execute_result"
    }
   ],
   "source": [
    "# Ans : Function is an independent block of code which is used to perform a specific task.\n",
    "def add(a,b):\n",
    "    return a+b\n",
    "add(3,4)"
   ]
  },
  {
   "cell_type": "code",
   "execution_count": 4,
   "id": "ff27de87-faa9-40af-ba82-189e5b25266b",
   "metadata": {},
   "outputs": [
    {
     "name": "stdout",
     "output_type": "stream",
     "text": [
      "This car is from Toyota\n"
     ]
    }
   ],
   "source": [
    "# Methods: It is a function in python which belongs to an object or class.\n",
    "class Car:\n",
    "    def __init__(self, brand):\n",
    "        self.brand = brand\n",
    "    \n",
    "    def display_brand(self):\n",
    "        print(f\"This car is from {self.brand}\")\n",
    "\n",
    "my_car = Car(\"Toyota\")\n",
    "my_car.display_brand() \n"
   ]
  },
  {
   "cell_type": "markdown",
   "id": "f6677e06-7f91-44d0-95cb-3830d0e0b60a",
   "metadata": {
    "jp-MarkdownHeadingCollapsed": true,
    "tags": []
   },
   "source": [
    " #### 2.) Explain the concept of function arguments and parameters in Python."
   ]
  },
  {
   "cell_type": "code",
   "execution_count": 5,
   "id": "5de4f6f5-eb0a-455c-bcc6-f86ae1664634",
   "metadata": {},
   "outputs": [
    {
     "data": {
      "text/plain": [
       "7"
      ]
     },
     "execution_count": 5,
     "metadata": {},
     "output_type": "execute_result"
    }
   ],
   "source": [
    "# Arguments : the actual value which is passed in a function is known as argument\n",
    "# Parameter : it is a placeholder for the arguments that has to be passed.\n",
    "def add(a,b):\n",
    "    return a+b\n",
    "add(3,4)\n",
    "\n",
    "# in the above code -> a & b are parameters and 3 & 4 are arguments."
   ]
  },
  {
   "cell_type": "markdown",
   "id": "f107f23d-7125-4fef-a877-eef97ac1b99d",
   "metadata": {
    "jp-MarkdownHeadingCollapsed": true,
    "tags": []
   },
   "source": [
    "#### 3.) What are the different ways to define and call a function in Python?"
   ]
  },
  {
   "cell_type": "code",
   "execution_count": 2,
   "id": "fa39ae32-7727-442a-afb2-d9e59943fda9",
   "metadata": {},
   "outputs": [
    {
     "name": "stdout",
     "output_type": "stream",
     "text": [
      "Namaste!\n"
     ]
    }
   ],
   "source": [
    "# There are different ways in which a function can be defined and called in python.\n",
    "# define basic function: in this function no parameter  is needed. \n",
    "def my_function():\n",
    "    print(\"Namaste!\")\n",
    "my_function()    "
   ]
  },
  {
   "cell_type": "code",
   "execution_count": 1,
   "id": "f90a1f1f-514f-4687-b4d1-af4b30f57585",
   "metadata": {},
   "outputs": [],
   "source": [
    "# Functions can also be defined by giving parameters.\n",
    "# Ex - \n",
    "def add_numbers(a, b):\n",
    "    return a + b"
   ]
  },
  {
   "cell_type": "code",
   "execution_count": 3,
   "id": "a2bed701-1533-41cd-af7f-0faaca7e7f8b",
   "metadata": {},
   "outputs": [
    {
     "name": "stdout",
     "output_type": "stream",
     "text": [
      "Hello, Roshni!\n"
     ]
    }
   ],
   "source": [
    "# Functions can be declared by giving default arguement.\n",
    "def greet(name=\"Roshni\"):\n",
    "    print(f\"Hello, {name}!\")\n",
    "greet()"
   ]
  },
  {
   "cell_type": "code",
   "execution_count": 10,
   "id": "e9c94870-87aa-476b-a952-8d02741c2f55",
   "metadata": {},
   "outputs": [
    {
     "data": {
      "text/plain": [
       "10"
      ]
     },
     "execution_count": 10,
     "metadata": {},
     "output_type": "execute_result"
    }
   ],
   "source": [
    "# Functions can be declared where arguments are not fixed, i.e, variable\n",
    "#Ex:\n",
    "def sum(*args):\n",
    "    s=0\n",
    "    for i in args:\n",
    "        s = s+i\n",
    "    return s\n",
    "sum(1,2,3,4)"
   ]
  },
  {
   "cell_type": "code",
   "execution_count": 12,
   "id": "d6af5b3e-2b63-4298-832e-0d937b809668",
   "metadata": {},
   "outputs": [],
   "source": [
    "# a function can be called with arguments, without arguments, with multiple arguments."
   ]
  },
  {
   "cell_type": "markdown",
   "id": "cae6a203-f6e3-4430-953e-92866bd6b5ba",
   "metadata": {
    "jp-MarkdownHeadingCollapsed": true,
    "tags": []
   },
   "source": [
    "#### 4. What is the purpose of the return statement in a Python function?"
   ]
  },
  {
   "cell_type": "code",
   "execution_count": null,
   "id": "94209b10-44df-46ed-a29e-5ce9985a7948",
   "metadata": {},
   "outputs": [],
   "source": [
    "# Return statement is used to exit a function and optionally return a value back.\n",
    "# For ex -\n",
    "def add_numbers(a, b):\n",
    "    return a + b\n",
    "add_numbers(3,3)\n",
    "\n",
    "# in this function \"return\" statement is used to return sum of 2 numbers 3 & 3."
   ]
  },
  {
   "cell_type": "markdown",
   "id": "806bc97e-1ed5-4462-ba43-bb911923db90",
   "metadata": {
    "jp-MarkdownHeadingCollapsed": true,
    "tags": []
   },
   "source": [
    "#### 5. What are iterators in Python and how do they differ from iterables?"
   ]
  },
  {
   "cell_type": "code",
   "execution_count": 15,
   "id": "6688bfeb-d119-458d-96fa-8a1ef2e2fd2c",
   "metadata": {},
   "outputs": [
    {
     "data": {
      "text/plain": [
       "1"
      ]
     },
     "execution_count": 15,
     "metadata": {},
     "output_type": "execute_result"
    }
   ],
   "source": [
    "# Iterator : A process that represents a stream of data , i.e, that returns data one by one.\n",
    "# Iterables : Object in Python that is capable of iterating its member one at a time.\n",
    "# Ex - \n",
    "l= iter([1,2,3,4])\n",
    "next(l)\n",
    "\n",
    "# here 1,2,3,4 are iterables and iter() is the iterator object."
   ]
  },
  {
   "cell_type": "code",
   "execution_count": 16,
   "id": "2f4fbf3e-90c5-4cee-a515-d8a43076ea3c",
   "metadata": {},
   "outputs": [
    {
     "data": {
      "text/plain": [
       "2"
      ]
     },
     "execution_count": 16,
     "metadata": {},
     "output_type": "execute_result"
    }
   ],
   "source": [
    "next(l)"
   ]
  },
  {
   "cell_type": "markdown",
   "id": "a73d7d9f-fa56-4718-beaf-eee352d5afa8",
   "metadata": {
    "jp-MarkdownHeadingCollapsed": true,
    "tags": []
   },
   "source": [
    "### 6. Explain the concept of generators in Python and how they are defined."
   ]
  },
  {
   "cell_type": "code",
   "execution_count": 18,
   "id": "15a91621-5b4c-4eef-8d10-97513fab831c",
   "metadata": {},
   "outputs": [
    {
     "name": "stdout",
     "output_type": "stream",
     "text": [
      "1\n",
      "4\n",
      "9\n",
      "16\n",
      "25\n",
      "36\n",
      "49\n",
      "64\n",
      "81\n",
      "100\n"
     ]
    }
   ],
   "source": [
    "# Generators are special type of iterator function which purpose is to simplify iterator object and in place of return statement yield statement is used.\n",
    "# Ex :\n",
    "def square_number_generator(n):\n",
    "    for i in range(1, n+1):\n",
    "        yield i ** 2\n",
    "\n",
    "# Using the generator function\n",
    "generator = square_number_generator(10)\n",
    "\n",
    "# Iterating over the generator\n",
    "for num in generator:\n",
    "    print(num)\n",
    " "
   ]
  },
  {
   "cell_type": "markdown",
   "id": "9c2893fc-8501-459a-bc8c-2892677dcaf6",
   "metadata": {
    "jp-MarkdownHeadingCollapsed": true,
    "tags": []
   },
   "source": [
    "### 7. What are the advantages of using generators over regular functions?"
   ]
  },
  {
   "cell_type": "code",
   "execution_count": 19,
   "id": "e04122fd-60ec-4605-aed4-e0de7cf122ca",
   "metadata": {},
   "outputs": [],
   "source": [
    "# Generators in Python offer memory-efficency,\n",
    "# is ideal for handling large datasets or\n",
    "# infinite sequences compared to regular functions that compute and store all values upfront."
   ]
  },
  {
   "cell_type": "markdown",
   "id": "78a21a4a-15bd-48f8-97ba-2b7c932ed35b",
   "metadata": {
    "tags": []
   },
   "source": [
    "### 8. What is a lambda function in Python and when is it typically used?"
   ]
  },
  {
   "cell_type": "code",
   "execution_count": 21,
   "id": "32c92fb1-3ba5-4fd0-863b-3879383d475c",
   "metadata": {},
   "outputs": [
    {
     "name": "stdout",
     "output_type": "stream",
     "text": [
      "4\n"
     ]
    }
   ],
   "source": [
    "# Lambda function  is a small anonymous, shorthand function that is used to carry out specific tasks.\n",
    "# It can take number of arguments but written in one line, which make the code more readble.\n",
    "# Example : \n",
    "sq_lambda = lambda x : x**2\n",
    "print(sq_lambda(2))"
   ]
  },
  {
   "cell_type": "markdown",
   "id": "31e5017a-80d5-4604-b95e-6e190f86456e",
   "metadata": {},
   "source": [
    "### 9. Explain the purpose and usage of the `map()` function in Python."
   ]
  },
  {
   "cell_type": "code",
   "execution_count": 23,
   "id": "15aa84dc-3049-4ce0-aa98-5861d9fde9f1",
   "metadata": {},
   "outputs": [
    {
     "data": {
      "text/plain": [
       "[11, 12, 13, 14, 15]"
      ]
     },
     "execution_count": 23,
     "metadata": {},
     "output_type": "execute_result"
    }
   ],
   "source": [
    "# The map() function in Python is used to apply a given function to each item of an iterable \n",
    "# (such as a list, tuple, or string) and returns a new iterable of the results. \n",
    "#Ex:\n",
    "def add(x):\n",
    "    return x+10\n",
    "l=[1,2,3,4,5]\n",
    "list(map(add,l))"
   ]
  },
  {
   "cell_type": "markdown",
   "id": "5633a69a-e5ce-42d8-b2f2-d1f6b4170273",
   "metadata": {
    "tags": []
   },
   "source": [
    "### 10. What is the difference between `map()`, `reduce()`, and `filter()` functions in Python?"
   ]
  },
  {
   "cell_type": "code",
   "execution_count": 28,
   "id": "8f3b12ce-1b72-4d5f-bb82-329a3a911465",
   "metadata": {},
   "outputs": [
    {
     "data": {
      "text/plain": [
       "[11, 12, 13, 14, 15]"
      ]
     },
     "execution_count": 28,
     "metadata": {},
     "output_type": "execute_result"
    }
   ],
   "source": [
    "# The map() function in Python is used to apply a given function to each item of an iterable \n",
    "# (such as a list, tuple, or string) and returns a new iterable of the results. \n",
    "#Ex:\n",
    "def add(x):\n",
    "    return x+10\n",
    "l=[1,2,3,4,5]\n",
    "list(map(add,l))"
   ]
  },
  {
   "cell_type": "code",
   "execution_count": 29,
   "id": "bbcdca88-554a-43ec-b84a-07463b19129b",
   "metadata": {},
   "outputs": [
    {
     "data": {
      "text/plain": [
       "25"
      ]
     },
     "execution_count": 29,
     "metadata": {},
     "output_type": "execute_result"
    }
   ],
   "source": [
    "# reduce() function is a functio where folding and reduction takes place .\n",
    "# Ex:\n",
    "from functools import reduce\n",
    "li = [2,1,3,4,4,5,6]\n",
    "reduce(lambda x,y :x+y , li)"
   ]
  },
  {
   "cell_type": "code",
   "execution_count": 32,
   "id": "2c53abfb-d8c2-4e3b-8be1-54b888701c29",
   "metadata": {},
   "outputs": [
    {
     "data": {
      "text/plain": [
       "[2, 4, 4, 6]"
      ]
     },
     "execution_count": 32,
     "metadata": {},
     "output_type": "execute_result"
    }
   ],
   "source": [
    "# filter() function is used to filter elements from an iterable based on some condition.\n",
    "# Ex:\n",
    "l = [2,1,3,4,4,5,6]\n",
    "list(filter(lambda x : x % 2 ==0 ,l))"
   ]
  },
  {
   "cell_type": "code",
   "execution_count": null,
   "id": "726513a6-c48d-484a-a5a0-b9955a8bec6a",
   "metadata": {},
   "outputs": [],
   "source": []
  }
 ],
 "metadata": {
  "kernelspec": {
   "display_name": "Python 3 (ipykernel)",
   "language": "python",
   "name": "python3"
  },
  "language_info": {
   "codemirror_mode": {
    "name": "ipython",
    "version": 3
   },
   "file_extension": ".py",
   "mimetype": "text/x-python",
   "name": "python",
   "nbconvert_exporter": "python",
   "pygments_lexer": "ipython3",
   "version": "3.10.8"
  }
 },
 "nbformat": 4,
 "nbformat_minor": 5
}
