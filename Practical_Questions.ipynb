{
 "cells": [
  {
   "cell_type": "markdown",
   "id": "6a36111a-5d34-4b1a-ba7a-6e9d8cd2d6bf",
   "metadata": {
    "jp-MarkdownHeadingCollapsed": true,
    "tags": []
   },
   "source": [
    "### 1) Write a Python function that takes a list of numbers as input and returns the sum of all even numbers in        the list."
   ]
  },
  {
   "cell_type": "code",
   "execution_count": 6,
   "id": "6f00e61b-e215-4716-ac97-22e272c3ce5f",
   "metadata": {},
   "outputs": [
    {
     "data": {
      "text/plain": [
       "6"
      ]
     },
     "execution_count": 6,
     "metadata": {},
     "output_type": "execute_result"
    }
   ],
   "source": [
    "def list_input(li):\n",
    "    sum=0\n",
    "    for num in li:\n",
    "        if num % 2==0:\n",
    "            sum += num\n",
    "    return sum\n",
    "li = [1,2,3,4,5]\n",
    "list_input(li)\n",
    "    \n",
    "    "
   ]
  },
  {
   "cell_type": "markdown",
   "id": "8042befe-a85a-40a5-8d0c-d7183b39f801",
   "metadata": {
    "jp-MarkdownHeadingCollapsed": true,
    "tags": []
   },
   "source": [
    "### 2. Create a Python function that accepts a string and returns the reverse of that string."
   ]
  },
  {
   "cell_type": "code",
   "execution_count": 9,
   "id": "91f87b96-c243-43bc-968f-0d251ebf1813",
   "metadata": {},
   "outputs": [
    {
     "data": {
      "text/plain": [
       "'tsitneicS ataD'"
      ]
     },
     "execution_count": 9,
     "metadata": {},
     "output_type": "execute_result"
    }
   ],
   "source": [
    "def rev(s):\n",
    "    return str[::-1]\n",
    "\n",
    "\n",
    "str = \"Data Scientist\"\n",
    "rev(str)"
   ]
  },
  {
   "cell_type": "markdown",
   "id": "a743053d-d32d-487d-9aac-ded4148d7022",
   "metadata": {
    "tags": []
   },
   "source": [
    "### 3)Implement a Python function that takes a list of integers and returns a new list containing the squares of       each number."
   ]
  },
  {
   "cell_type": "code",
   "execution_count": 12,
   "id": "90075d10-0278-4570-ab53-6b34c7c32651",
   "metadata": {},
   "outputs": [
    {
     "data": {
      "text/plain": [
       "[1, 4, 9, 16, 25]"
      ]
     },
     "execution_count": 12,
     "metadata": {},
     "output_type": "execute_result"
    }
   ],
   "source": [
    "def square(li):\n",
    "    sq=[]\n",
    "    for n in li:\n",
    "        sq.append(n*n)\n",
    "    return sq    \n",
    "li=[1,2,3,4,5]\n",
    "square(li)"
   ]
  },
  {
   "cell_type": "markdown",
   "id": "d0265aa0-e330-4d3d-b157-76cebfc0d77b",
   "metadata": {
    "jp-MarkdownHeadingCollapsed": true,
    "tags": []
   },
   "source": [
    "### 4) Write a Python function that checks if a given number is prime or not from 1 to 200."
   ]
  },
  {
   "cell_type": "code",
   "execution_count": 40,
   "id": "0b9e15f5-6edd-4514-86e7-e2e28f244504",
   "metadata": {},
   "outputs": [
    {
     "data": {
      "text/plain": [
       "'Not Prime'"
      ]
     },
     "execution_count": 40,
     "metadata": {},
     "output_type": "execute_result"
    }
   ],
   "source": [
    "def check_prime(num):\n",
    "    if(0<num<201):\n",
    "        if num == 1:\n",
    "            return \"Not Prime\"\n",
    "        elif num == 2:\n",
    "            return \"Prime\"\n",
    "        else:\n",
    "            for i in range(3, num):\n",
    "                if num % i == 0:\n",
    "                    return \"Not Prime\"\n",
    "            return \"Prime\"\n",
    "num = 21\n",
    "check_prime(num)\n"
   ]
  },
  {
   "cell_type": "markdown",
   "id": "41d21187-8371-41ad-be7a-e67d6a90a39e",
   "metadata": {
    "tags": []
   },
   "source": [
    "### 5)Create an iterator class in Python that generates the Fibonacci sequence up to a specified number of terms."
   ]
  },
  {
   "cell_type": "code",
   "execution_count": 6,
   "id": "699a3fb1-e60f-4011-8be4-b9099aa15ca7",
   "metadata": {},
   "outputs": [
    {
     "name": "stdout",
     "output_type": "stream",
     "text": [
      "0\n",
      "1\n",
      "1\n",
      "2\n",
      "3\n",
      "5\n",
      "8\n"
     ]
    }
   ],
   "source": [
    "def fib(n):\n",
    "    a=0\n",
    "    b=1\n",
    "    for i in range (n):\n",
    "        yield a\n",
    "        a,b = b,a+b\n",
    "for num in fib(7):\n",
    "    print(num) "
   ]
  },
  {
   "cell_type": "markdown",
   "id": "e932ef21-65aa-47d1-9ee8-0dbb22c44c0a",
   "metadata": {
    "tags": []
   },
   "source": [
    "### 6.) Write a generator function in Python that yields the powers of 2 up to a given exponent"
   ]
  },
  {
   "cell_type": "code",
   "execution_count": 13,
   "id": "102d1a09-9f75-4b02-bdef-526f5c32362b",
   "metadata": {},
   "outputs": [
    {
     "name": "stdout",
     "output_type": "stream",
     "text": [
      "0\n",
      "1\n",
      "4\n",
      "9\n",
      "16\n"
     ]
    }
   ],
   "source": [
    "def power(n):\n",
    "    for i in range(n):\n",
    "        yield i**2\n",
    "n=5\n",
    "for result in power(n):\n",
    "    print(result)"
   ]
  },
  {
   "cell_type": "markdown",
   "id": "667190f4-10b4-4d90-8117-2fc2c4fb2f80",
   "metadata": {},
   "source": [
    "### 7.)  Implement a generator function that reads a file line by line and yields each line as a string."
   ]
  },
  {
   "cell_type": "code",
   "execution_count": 9,
   "id": "d7c2392d-27a4-42f9-89bb-2c7aab03fe4b",
   "metadata": {},
   "outputs": [
    {
     "name": "stdout",
     "output_type": "stream",
     "text": [
      "Ratan Naval Tata (born 28 December 1937) is an Indian industrialist, philanthropist and former chairman of Tata Sons. He was a chairman of the Tata Group from 1990 to 2012, and interim chairman from October 2016 through February 2017. He continues to head its charitable trusts.[2][3] In 2008, he received the Padma Vibhushan, the second highest civilian honour in India, after receiving the Padma Bhushan, the third highest civilian honour in 2000.\n",
      "\n",
      "He is the son of Naval Tata, who was adopted by Ratanji Tata, son of Jamsetji Tata, the founder of the Tata Group. He graduated from the Cornell University College of Architecture with a bachelor's degree in architecture.[5] He joined Tata in 1961, where he worked on the shop floor of Tata Steel. He later succeeded J. R. D. Tata as chairman of Tata Sons upon the latter's retirement in 1991. Under his tenure the Tata Group acquired Tetley, Jaguar Land Rover, and Corus, in an attempt to turn Tata from a largely India-centric group into a global business. Tata is also one of the largest philanthropists in the world, having donated around 60–65% of his income to charity.\n",
      "\n"
     ]
    }
   ],
   "source": [
    "def read_file_lines(f):\n",
    "    with open(file_path, 'r') as file:\n",
    "        for line in file:\n",
    "            yield line.strip()\n",
    "f = 'Ratan_Tata.txt'\n",
    "for line in read_file_lines(f):\n",
    "    print(line)\n"
   ]
  },
  {
   "cell_type": "markdown",
   "id": "2e07d11d-5b1a-4c63-a816-789efd489ff4",
   "metadata": {
    "tags": []
   },
   "source": [
    " ### 8) Use a lambda function in Python to sort a list of tuples based on the second element of each tuple."
   ]
  },
  {
   "cell_type": "code",
   "execution_count": 18,
   "id": "b193d4bc-7802-452a-a760-320f94cb10e3",
   "metadata": {},
   "outputs": [
    {
     "name": "stdout",
     "output_type": "stream",
     "text": [
      "[(5, 1), (3, 2), (4, 3), (1, 5), (2, 8)]\n"
     ]
    }
   ],
   "source": [
    "list_of_tuples = [(1, 5), (3, 2), (2, 8), (4, 3), (5, 1)]\n",
    "sorted_list = sorted(list_of_tuples, key=lambda x: x[1])\n",
    "print(sorted_list)\n"
   ]
  },
  {
   "cell_type": "markdown",
   "id": "aad18fc2-177e-4473-80f4-76b95f59e517",
   "metadata": {},
   "source": [
    "### 9) Write a Python program that uses `map()` to convert a list of temperatures from Celsius to Fahrenheit"
   ]
  },
  {
   "cell_type": "code",
   "execution_count": 22,
   "id": "d64a9733-83ac-4e73-91b1-0c7bb08f784d",
   "metadata": {},
   "outputs": [
    {
     "name": "stdout",
     "output_type": "stream",
     "text": [
      "[62.6, 111.2, 37.4, 26.6, 32.0]\n"
     ]
    }
   ],
   "source": [
    "def convert(n):\n",
    "    return (9/5) * n + 32\n",
    "celsius = [17, 44, 3, -3, 0]\n",
    "f = list(map(convert,celsius))\n",
    "print(f)"
   ]
  },
  {
   "cell_type": "markdown",
   "id": "8b8d60b2-ac75-4314-ac0c-39a3cfd3ecf4",
   "metadata": {
    "tags": []
   },
   "source": [
    "### 10) Create a Python program that uses `filter()` to remove all the vowels from a given string"
   ]
  },
  {
   "cell_type": "code",
   "execution_count": 27,
   "id": "c26f92b4-880e-4579-bf68-970993c55391",
   "metadata": {},
   "outputs": [
    {
     "name": "stdout",
     "output_type": "stream",
     "text": [
      "Hll, Wrld!\n"
     ]
    }
   ],
   "source": [
    "def remove_vowels(s):\n",
    "    vowels = 'aeiouAEIOU'\n",
    "    return ''.join(filter(lambda x: x not in vowels, s))\n",
    "s = \"Hello, World!\"\n",
    "result = remove_vowels(s)\n",
    "print(result)\n"
   ]
  },
  {
   "cell_type": "code",
   "execution_count": 2,
   "id": "5a36666c-7220-4fa1-a634-277d9c3b9751",
   "metadata": {},
   "outputs": [
    {
     "ename": "SyntaxError",
     "evalue": "'[' was never closed (514243799.py, line 2)",
     "output_type": "error",
     "traceback": [
      "\u001b[0;36m  Cell \u001b[0;32mIn[2], line 2\u001b[0;36m\u001b[0m\n\u001b[0;31m    orders = [\u001b[0m\n\u001b[0m             ^\u001b[0m\n\u001b[0;31mSyntaxError\u001b[0m\u001b[0;31m:\u001b[0m '[' was never closed\n"
     ]
    }
   ],
   "source": [
    "# Define the list of orders\n",
    "orders = [\n",
    "    [34587, 40.95, 4],\n",
    "    [98762, 56.8, 5,\n",
    "    [77226, 32.95, 3],\n",
    "    [88112, 24.99, 3],\n",
    "]\n",
    "\n",
    "# Lambda function to calculate the product and adjust if total is less than 100\n",
    "calculate_total = lambda order: (order[0], (order[1] * order[2]) + 10 if (order[1] * order[2]) < 100 else (order[1] * order[2]))\n",
    "\n",
    "# Using map() with lambda function to compute results\n",
    "result = list(map(calculate_total, orders))\n",
    "\n",
    "# Print the result\n",
    "print(result)\n",
    "\n",
    "\n"
   ]
  },
  {
   "cell_type": "code",
   "execution_count": null,
   "id": "a845fa0f-84d2-4f32-afee-be840fe11411",
   "metadata": {},
   "outputs": [],
   "source": []
  }
 ],
 "metadata": {
  "kernelspec": {
   "display_name": "Python 3 (ipykernel)",
   "language": "python",
   "name": "python3"
  },
  "language_info": {
   "codemirror_mode": {
    "name": "ipython",
    "version": 3
   },
   "file_extension": ".py",
   "mimetype": "text/x-python",
   "name": "python",
   "nbconvert_exporter": "python",
   "pygments_lexer": "ipython3",
   "version": "3.10.8"
  }
 },
 "nbformat": 4,
 "nbformat_minor": 5
}
